{
 "cells": [
  {
   "cell_type": "markdown",
   "id": "ba195596",
   "metadata": {},
   "source": [
    "# Explore Double Descent with MNIST"
   ]
  },
  {
   "cell_type": "markdown",
   "id": "f07d8901",
   "metadata": {},
   "source": [
    "Ref Article:\n",
    "- https://medium.com/mlearning-ai/double-descent-8f92dfdc442f\n",
    "- https://evjang.com/2021/10/23/generalization.html"
   ]
  },
  {
   "cell_type": "markdown",
   "id": "0d05fb9f",
   "metadata": {},
   "source": [
    "# Use Weight and Bias as Dashboard with pytorch lightning"
   ]
  },
  {
   "cell_type": "code",
   "execution_count": 1,
   "id": "37994897",
   "metadata": {},
   "outputs": [],
   "source": [
    "# Some Hyperparameter Defination\n",
    "BATCH_SIZE = 1024"
   ]
  },
  {
   "cell_type": "markdown",
   "id": "36ed4fb0",
   "metadata": {},
   "source": [
    "## MNIST dataset"
   ]
  },
  {
   "cell_type": "code",
   "execution_count": 2,
   "id": "f0e13c89",
   "metadata": {},
   "outputs": [],
   "source": [
    "import os\n",
    "from typing import Optional\n",
    "\n",
    "import numpy as np\n",
    "import matplotlib.pyplot as plt\n",
    "\n",
    "import torch\n",
    "from torch.nn import functional as F\n",
    "from torch import nn\n",
    "from torch.utils.data import DataLoader, random_split\n",
    "\n",
    "from torchvision.datasets import MNIST\n",
    "from torchvision import transforms\n",
    "\n",
    "import pytorch_lightning as pl\n",
    "from pytorch_lightning import LightningModule, Trainer\n",
    "from pytorch_lightning.metrics.functional import accuracy\n",
    "\n",
    "MNIST.mirrors = [mirror for mirror in MNIST.mirrors\n",
    "                 if not mirror.startswith(\"http://yann.lecun.com\")]"
   ]
  },
  {
   "cell_type": "code",
   "execution_count": 3,
   "id": "0d4fc187",
   "metadata": {},
   "outputs": [],
   "source": [
    "# pl dataMoudle ref: \n",
    "# https://pytorch-lightning.readthedocs.io/en/latest/extensions/datamodules.html\n",
    "\n",
    "class MNISTDataModule(pl.LightningDataModule):\n",
    "    def __init__(self, data_dir: str = \"./data\", batch_size: int = 1024):\n",
    "        super().__init__()\n",
    "        self.data_dir = data_dir\n",
    "        self.batch_size = batch_size\n",
    "        \n",
    "    def prepare_data(self):\n",
    "        # download\n",
    "        MNIST(self.data_dir, train=True, download=True)\n",
    "        MNIST(self.data_dir, train=False, download=True)\n",
    "\n",
    "    def setup(self, stage: Optional[str] = None):\n",
    "        self.mnist_test = MNIST(self.data_dir, train=False, transform=transforms.ToTensor())\n",
    "        mnist_full = MNIST(self.data_dir, train=True, transform=transforms.ToTensor())\n",
    "        self.mnist_train, self.mnist_val = random_split(mnist_full, [55000, 5000])\n",
    "\n",
    "    def train_dataloader(self):\n",
    "        return DataLoader(self.mnist_train, batch_size=self.batch_size)\n",
    "\n",
    "    def val_dataloader(self):\n",
    "        return DataLoader(self.mnist_val, batch_size=self.batch_size)\n",
    "\n",
    "    def test_dataloader(self):\n",
    "        return DataLoader(self.mnist_test, batch_size=self.batch_size)"
   ]
  },
  {
   "cell_type": "code",
   "execution_count": 4,
   "id": "2cbfe6bd",
   "metadata": {},
   "outputs": [],
   "source": [
    "dm = MNISTDataModule()\n",
    "dm.prepare_data()\n",
    "dm.setup()"
   ]
  },
  {
   "cell_type": "markdown",
   "id": "1ddad53c",
   "metadata": {},
   "source": [
    "## Quick look at the training set"
   ]
  },
  {
   "cell_type": "code",
   "execution_count": 13,
   "id": "6668a685",
   "metadata": {},
   "outputs": [
    {
     "name": "stdout",
     "output_type": "stream",
     "text": [
      "Feature batch shape: torch.Size([1024, 1, 28, 28])\n",
      "Labels batch shape: torch.Size([1024])\n"
     ]
    },
    {
     "data": {
      "image/png": "[encoded data removed]",
      "text/plain": [
       "<Figure size 1440x720 with 5 Axes>"
      ]
     },
     "metadata": {
      "needs_background": "light"
     },
     "output_type": "display_data"
    }
   ],
   "source": [
    "# Display image and label.\n",
    "train_features, train_labels = next(iter(dm.train_dataloader()))\n",
    "print(f\"Feature batch shape: {train_features.size()}\")\n",
    "print(f\"Labels batch shape: {train_labels.size()}\")\n",
    "\n",
    "images=[]\n",
    "\n",
    "for i in range(0, 5):\n",
    "    images.append(train_features[i].squeeze())\n",
    "\n",
    "plt.figure(figsize=(20,10))\n",
    "columns = 5\n",
    "\n",
    "for i, image in enumerate(images):\n",
    "    ax = plt.subplot(int(len(images) / columns + 1), columns, i + 1)\n",
    "    ax.imshow(image, cmap=\"gray\")\n",
    "    ax.title.set_text(\"Lable: {}\".format(train_labels[i]))"
   ]
  },
  {
   "cell_type": "code",
   "execution_count": null,
   "id": "7cd712b2",
   "metadata": {},
   "outputs": [],
   "source": []
  }
 ],
 "metadata": {
  "kernelspec": {
   "display_name": "Python 3 (ipykernel)",
   "language": "python",
   "name": "python3"
  },
  "language_info": {
   "codemirror_mode": {
    "name": "ipython",
    "version": 3
   },
   "file_extension": ".py",
   "mimetype": "text/x-python",
   "name": "python",
   "nbconvert_exporter": "python",
   "pygments_lexer": "ipython3",
   "version": "3.9.7"
  }
 },
 "nbformat": 4,
 "nbformat_minor": 5
}
